{
 "cells": [
  {
   "cell_type": "raw",
   "id": "7f87a6b6-385c-4f1d-a8e5-fdfe56b890c5",
   "metadata": {},
   "source": [
    "Roman numerals are represented by seven different symbols: I, V, X, L, C, D and M.\n",
    "\n",
    "Symbol       Value\n",
    "I             1\n",
    "V             5\n",
    "X             10\n",
    "L             50\n",
    "C             100\n",
    "D             500\n",
    "M             1000\n",
    "For example, 2 is written as II in Roman numeral, just two ones added together. 12 is written as XII, which is simply X + II. The number 27 is written as XXVII, which is XX + V + II.\n",
    "\n",
    "Roman numerals are usually written largest to smallest from left to right. However, the numeral for four is not IIII. Instead, the number four is written as IV. Because the one is before the five we subtract it making four. The same principle applies to the number nine, which is written as IX. There are six instances where subtraction is used:\n",
    "\n",
    "I can be placed before V (5) and X (10) to make 4 and 9. \n",
    "X can be placed before L (50) and C (100) to make 40 and 90. \n",
    "C can be placed before D (500) and M (1000) to make 400 and 900.\n",
    "Given a roman numeral, convert it to an integer.\n",
    "\n",
    " \n",
    "\n",
    "Example 1:\n",
    "\n",
    "Input: s = \"III\"\n",
    "Output: 3\n",
    "Explanation: III = 3.\n",
    "Example 2:\n",
    "\n",
    "Input: s = \"LVIII\"\n",
    "Output: 58\n",
    "Explanation: L = 50, V= 5, III = 3.\n",
    "Example 3:\n",
    "\n",
    "Input: s = \"MCMXCIV\"\n",
    "Output: 1994\n",
    "Explanation: M = 1000, CM = 900, XC = 90 and IV = 4."
   ]
  },
  {
   "cell_type": "raw",
   "id": "d84c381c-5563-4efb-8a19-b10f99d836ae",
   "metadata": {},
   "source": [
    "def roman_to_integer(roman):\n",
    "    roman_to_integer = {\n",
    "        'I': 1,\n",
    "        'V': 5,\n",
    "        'X': 10,\n",
    "        'L': 50,\n",
    "        'C': 100,\n",
    "        'D': 500,\n",
    "        'M': 1000\n",
    "    }\n",
    "\n",
    "    total = 0\n",
    "\n",
    "    for i in range(len(roman)):\n",
    "        # Check if the current symbol represents a value that is less than the value of the next symbol\n",
    "        if i < len(roman) - 1 and roman_to_integer[roman[i]] < roman_to_integer[roman[i + 1]]:\n",
    "            # If it is, subtract its value from the total\n",
    "            total -= roman_to_integer[roman[i]]\n",
    "        else:\n",
    "            # Otherwise, add its value to the total\n",
    "            total += roman_to_integer[roman[i]]\n",
    "\n",
    "    return total\n"
   ]
  },
  {
   "cell_type": "code",
   "execution_count": 3,
   "id": "b354b8b1-82d1-4b12-a35c-f429821333b8",
   "metadata": {},
   "outputs": [
    {
     "data": {
      "text/plain": [
       "3"
      ]
     },
     "execution_count": 3,
     "metadata": {},
     "output_type": "execute_result"
    }
   ],
   "source": [
    "s = \"III\"\n",
    "roman_to_integer(s)"
   ]
  },
  {
   "cell_type": "raw",
   "id": "b727c181-61b1-4c94-af6d-65470c958848",
   "metadata": {},
   "source": [
    "##JAVA\n",
    "import java.util.HashMap;\n",
    "import java.util.Map;\n",
    "\n",
    "public class RomanToInteger {\n",
    "    public static int romanToInteger(String s) {\n",
    "        Map<Character, Integer> romanToInteger = new HashMap<>();\n",
    "        romanToInteger.put('I', 1);\n",
    "        romanToInteger.put('V', 5);\n",
    "        romanToInteger.put('X', 10);\n",
    "        romanToInteger.put('L', 50);\n",
    "        romanToInteger.put('C', 100);\n",
    "        romanToInteger.put('D', 500);\n",
    "        romanToInteger.put('M', 1000);\n",
    "\n",
    "        int total = 0;\n",
    "\n",
    "        for (int i = 0; i < roman.length(); i++) {\n",
    "            if (i < roman.length() - 1 && romanToInteger.get(s.charAt(i)) < romanToInteger.get(s.charAt(i + 1))) {\n",
    "                total -= romanToInteger.get(s.charAt(i));\n",
    "            } else {\n",
    "                total += romanToInteger.get(s.charAt(i));\n",
    "            }\n",
    "        }\n",
    "\n",
    "        return total;\n",
    "    }\n",
    "\n",
    "    public static void main(String[] args) {\n",
    "        String romanNumeral = \"XXVII\";\n",
    "        int result = romanToInteger(romanNumeral);\n",
    "        System.out.println(result); // Output: 27\n",
    "    }\n",
    "}\n"
   ]
  },
  {
   "cell_type": "code",
   "execution_count": null,
   "id": "17a0556f-ecd8-4b10-bff6-85bf24b8678a",
   "metadata": {},
   "outputs": [],
   "source": []
  }
 ],
 "metadata": {
  "kernelspec": {
   "display_name": "Python 3 (ipykernel)",
   "language": "python",
   "name": "python3"
  },
  "language_info": {
   "codemirror_mode": {
    "name": "ipython",
    "version": 3
   },
   "file_extension": ".py",
   "mimetype": "text/x-python",
   "name": "python",
   "nbconvert_exporter": "python",
   "pygments_lexer": "ipython3",
   "version": "3.10.6"
  }
 },
 "nbformat": 4,
 "nbformat_minor": 5
}
def roman_to_int(s):
    roman_to_int_map = {
        'I': 1,
        'V': 5,
        'X': 10,
        'L': 50,
        'C': 100,
        'D': 500,
        'M': 1000
    }
    
    total = 0
    prev_value = 0
    
    for char in s[::-1]:  # Iterate the string in reverse
        value = roman_to_int_map[char]
        if value >= prev_value:
            total += value
        else:
            total -= value
        prev_value = value
    
    return total

# Example usage
roman_numeral = "MCMXCIV"
integer_value = roman_to_int(roman_numeral)
print(integer_value)  # This will print 1994
